{
 "cells": [
  {
   "cell_type": "code",
   "execution_count": 45,
   "id": "b8cc8f57",
   "metadata": {},
   "outputs": [],
   "source": [
    "#installations\n",
    "from sklearn.preprocessing import LabelBinarizer\n",
    "from sklearn.metrics import classification_report\n",
    "from tensorflow.keras.models import Sequential\n",
    "from tensorflow.keras.layers import Dense\n",
    "from tensorflow.keras.optimizers import SGD\n",
    "from tensorflow.keras.datasets import mnist\n",
    "from tensorflow.keras.datasets import cifar10\n",
    "from tensorflow.keras import backend as K\n",
    "import matplotlib.pyplot as plt\n",
    "import numpy as np\n",
    "import pandas as pd"
   ]
  },
  {
   "cell_type": "code",
   "execution_count": 82,
   "id": "e41f2072",
   "metadata": {},
   "outputs": [],
   "source": [
    "#((xtrain, ytrain), (xtest, ytest)) = mnist.load_data()\n",
    "#((xtrain, ytrain), (xtest, ytest)) = cifar10.load_data()\n",
    "\n",
    "train_data = pd.read_csv('mnist_train.csv')\n",
    "test_data = pd.read_csv('mnist_test.csv')\n",
    "\n",
    "\n",
    "xtrain = train_data.drop('label', axis=1)\n",
    "xtest = test_data.drop('label', axis=1)\n",
    "\n",
    "ytrain = train_data['label']\n",
    "ytest =  test_data['label']\n",
    "\n",
    "xtrain=np.array(xtrain)\n",
    "xtest=np.array(xtest)"
   ]
  },
  {
   "cell_type": "code",
   "execution_count": 83,
   "id": "e17b1c86",
   "metadata": {},
   "outputs": [],
   "source": [
    "\n",
    "\n",
    "\n",
    "xtrain = xtrain.reshape((xtrain.shape[0], 28*28*1))\n",
    "xtest = xtest.reshape((xtest.shape[0], 28*28*1))\n",
    "xtrain = xtrain.astype(\"float\") / 255.0\n",
    "xtest = xtest.astype(\"float\") / 255.0"
   ]
  },
  {
   "cell_type": "code",
   "execution_count": 84,
   "id": "343d9b92",
   "metadata": {},
   "outputs": [],
   "source": [
    "lb = LabelBinarizer()\n",
    "ytrain = lb.fit_transform(ytrain)\n",
    "ytest = lb.transform(ytest)"
   ]
  },
  {
   "cell_type": "code",
   "execution_count": 85,
   "id": "23dd7ca7",
   "metadata": {},
   "outputs": [],
   "source": [
    "model = Sequential()\n",
    "model.add(Dense(128, input_shape = (784, ), activation = \"sigmoid\"))\n",
    "model.add(Dense(64, activation = \"sigmoid\"))\n",
    "model.add(Dense(10, activation = \"softmax\"))"
   ]
  },
  {
   "cell_type": "code",
   "execution_count": 86,
   "id": "7ce32944",
   "metadata": {},
   "outputs": [
    {
     "name": "stdout",
     "output_type": "stream",
     "text": [
      "Epoch 1/11\n",
      "469/469 [==============================] - 7s 5ms/step - loss: 2.2818 - accuracy: 0.1685 - val_loss: 2.2497 - val_accuracy: 0.2734\n",
      "Epoch 2/11\n",
      "469/469 [==============================] - 2s 4ms/step - loss: 2.2208 - accuracy: 0.3473 - val_loss: 2.1866 - val_accuracy: 0.5083\n",
      "Epoch 3/11\n",
      "469/469 [==============================] - 2s 4ms/step - loss: 2.1490 - accuracy: 0.4758 - val_loss: 2.1010 - val_accuracy: 0.5361\n",
      "Epoch 4/11\n",
      "469/469 [==============================] - 2s 4ms/step - loss: 2.0485 - accuracy: 0.5469 - val_loss: 1.9806 - val_accuracy: 0.5685\n",
      "Epoch 5/11\n",
      "469/469 [==============================] - 2s 4ms/step - loss: 1.9108 - accuracy: 0.5911 - val_loss: 1.8217 - val_accuracy: 0.6157\n",
      "Epoch 6/11\n",
      "469/469 [==============================] - 2s 4ms/step - loss: 1.7410 - accuracy: 0.6377 - val_loss: 1.6386 - val_accuracy: 0.6729\n",
      "Epoch 7/11\n",
      "469/469 [==============================] - 2s 4ms/step - loss: 1.5575 - accuracy: 0.6811 - val_loss: 1.4537 - val_accuracy: 0.7105\n",
      "Epoch 8/11\n",
      "469/469 [==============================] - 2s 4ms/step - loss: 1.3804 - accuracy: 0.7161 - val_loss: 1.2836 - val_accuracy: 0.7435\n",
      "Epoch 9/11\n",
      "469/469 [==============================] - 2s 4ms/step - loss: 1.2240 - accuracy: 0.7455 - val_loss: 1.1395 - val_accuracy: 0.7567\n",
      "Epoch 10/11\n",
      "469/469 [==============================] - 2s 4ms/step - loss: 1.0939 - accuracy: 0.7650 - val_loss: 1.0219 - val_accuracy: 0.7785\n",
      "Epoch 11/11\n",
      "469/469 [==============================] - 2s 4ms/step - loss: 0.9883 - accuracy: 0.7826 - val_loss: 0.9264 - val_accuracy: 0.7936\n"
     ]
    }
   ],
   "source": [
    "sgd = SGD(0.01)\n",
    "epo = 11\n",
    "model.compile(loss = \"categorical_crossentropy\", optimizer = sgd, metrics = ['accuracy'])\n",
    "H = model.fit(xtrain, ytrain, validation_data = (xtest, ytest), epochs = epo, batch_size = 128)"
   ]
  },
  {
   "cell_type": "code",
   "execution_count": 87,
   "id": "75f1aa27",
   "metadata": {},
   "outputs": [
    {
     "name": "stdout",
     "output_type": "stream",
     "text": [
      "1000/1000 [==============================] - 2s 2ms/step\n",
      "              precision    recall  f1-score   support\n",
      "\n",
      "           0       0.86      0.97      0.91       980\n",
      "           1       0.81      0.98      0.89      1135\n",
      "           2       0.83      0.73      0.78      1032\n",
      "           3       0.73      0.83      0.78      1010\n",
      "           4       0.69      0.85      0.76       982\n",
      "           5       0.82      0.52      0.64       892\n",
      "           6       0.85      0.90      0.87       958\n",
      "           7       0.82      0.88      0.85      1028\n",
      "           8       0.80      0.66      0.72       974\n",
      "           9       0.75      0.57      0.65      1009\n",
      "\n",
      "    accuracy                           0.79     10000\n",
      "   macro avg       0.80      0.79      0.78     10000\n",
      "weighted avg       0.80      0.79      0.79     10000\n",
      "\n"
     ]
    }
   ],
   "source": [
    "predications = model.predict(xtest, batch_size=10)\n",
    "print(classification_report(ytest.argmax(axis = 1), predications.argmax(axis = 1)))"
   ]
  },
  {
   "cell_type": "code",
   "execution_count": 88,
   "id": "52bc2f6d",
   "metadata": {},
   "outputs": [
    {
     "data": {
      "text/plain": [
       "<matplotlib.legend.Legend at 0x2242a3d8220>"
      ]
     },
     "execution_count": 88,
     "metadata": {},
     "output_type": "execute_result"
    },
    {
     "data": {
      "image/png": "[encoded data removed]",
      "text/plain": [
       "<Figure size 432x288 with 1 Axes>"
      ]
     },
     "metadata": {},
     "output_type": "display_data"
    }
   ],
   "source": [
    "plt.style.use(\"ggplot\")\n",
    "plt.figure()\n",
    "plt.plot(np.arange(0, epo), H.history[\"loss\"], label = \"train_loss\")\n",
    "plt.plot(np.arange(0, epo), H.history[\"val_loss\"], label = \"val_loss\")\n",
    "plt.plot(np.arange(0, epo), H.history[\"accuracy\"], label = \"train_accuracy\")\n",
    "plt.plot(np.arange(0, epo), H.history[\"val_accuracy\"], label = \"val_accuracy\")\n",
    "plt.legend()"
   ]
  },
  {
   "cell_type": "code",
   "execution_count": null,
   "id": "766fe6ef",
   "metadata": {},
   "outputs": [],
   "source": []
  }
 ],
 "metadata": {
  "kernelspec": {
   "display_name": "Python 3",
   "language": "python",
   "name": "python3"
  },
  "language_info": {
   "codemirror_mode": {
    "name": "ipython",
    "version": 3
   },
   "file_extension": ".py",
   "mimetype": "text/x-python",
   "name": "python",
   "nbconvert_exporter": "python",
   "pygments_lexer": "ipython3",
   "version": "3.8.8"
  }
 },
 "nbformat": 4,
 "nbformat_minor": 5
}
