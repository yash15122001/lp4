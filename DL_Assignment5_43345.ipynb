{
  "nbformat": 4,
  "nbformat_minor": 0,
  "metadata": {
    "colab": {
      "provenance": [],
      "collapsed_sections": []
    },
    "kernelspec": {
      "name": "python3",
      "display_name": "Python 3"
    },
    "language_info": {
      "name": "python"
    }
  },
  "cells": [
    {
      "cell_type": "markdown",
      "source": [
        "Name: **Yash Nimbalkar**<br>\n",
        "Roll no: **43345**<br>\n",
        "Div: **BE11-R11**<br>\n",
        "Title: **Assignment 5: Implement the Continuous Bag of Words (CBOW) Model**<br>"
      ],
      "metadata": {
        "id": "i_GcJlVrDgBk"
      }
    },
    {
      "cell_type": "code",
      "execution_count": null,
      "metadata": {
        "id": "V51q50EbF-T9"
      },
      "outputs": [],
      "source": [
        "#importing libraries\n",
        "from keras.preprocessing import text\n",
        "from keras.utils import np_utils\n",
        "from keras.preprocessing import sequence\n",
        "from keras.utils import pad_sequences\n",
        "import numpy as np\n",
        "import pandas as pd"
      ]
    },
    {
      "cell_type": "code",
      "source": [
        "#taking random sentences as data\n",
        "data = \"\"\"Deep learning (also known as deep structured learning) is part of a broader family of machine learning methods based on artificial neural networks with representation learning. Learning can be supervised, semi-supervised or unsupervised. \n",
        "Deep-learning architectures such as deep neural networks, deep belief networks, deep reinforcement learning, recurrent neural networks, convolutional neural networks and Transformers have been applied to fields including computer vision, speech recognition, natural language processing, machine translation, bioinformatics, drug design, medical image analysis, climate science, material inspection and board game programs, where they have produced results comparable to and in some cases surpassing human expert performance.\n",
        "\"\"\"\n",
        "dl_data = data.split()"
      ],
      "metadata": {
        "id": "wBUwYdBJElVz"
      },
      "execution_count": null,
      "outputs": []
    },
    {
      "cell_type": "code",
      "source": [
        "#tokenization\n",
        "tokenizer = text.Tokenizer()\n",
        "tokenizer.fit_on_texts(dl_data)\n",
        "word2id = tokenizer.word_index\n",
        "\n",
        "word2id['PAD'] = 0\n",
        "id2word = {v:k for k, v in word2id.items()}\n",
        "wids = [[word2id[w] for w in text.text_to_word_sequence(doc)] for doc in dl_data]\n",
        "\n",
        "vocab_size = len(word2id)\n",
        "embed_size = 100\n",
        "window_size = 2 \n",
        "\n",
        "print('Vocabulary Size:', vocab_size)\n",
        "print('Vocabulary Sample:', list(word2id.items())[:10])"
      ],
      "metadata": {
        "colab": {
          "base_uri": "https://localhost:8080/"
        },
        "id": "celNk9LmEvm8",
        "outputId": "5244392b-7204-4a9f-e2a3-c5de0e40e1a9"
      },
      "execution_count": null,
      "outputs": [
        {
          "output_type": "stream",
          "name": "stdout",
          "text": [
            "Vocabulary Size: 75\n",
            "Vocabulary Sample: [('learning', 1), ('deep', 2), ('networks', 3), ('neural', 4), ('and', 5), ('as', 6), ('of', 7), ('machine', 8), ('supervised', 9), ('have', 10)]\n"
          ]
        }
      ]
    },
    {
      "cell_type": "code",
      "source": [
        "#generating (context word, target/label word) pairs\n",
        "def generate_context_word_pairs(corpus, window_size, vocab_size):\n",
        "    context_length = window_size*2\n",
        "    for words in corpus:\n",
        "        sentence_length = len(words)\n",
        "        for index, word in enumerate(words):\n",
        "            context_words = []\n",
        "            label_word   = []            \n",
        "            start = index - window_size\n",
        "            end = index + window_size + 1\n",
        "            \n",
        "            context_words.append([words[i] \n",
        "                                 for i in range(start, end) \n",
        "                                 if 0 <= i < sentence_length \n",
        "                                 and i != index])\n",
        "            label_word.append(word)\n",
        "\n",
        "            x = pad_sequences(context_words, maxlen=context_length)\n",
        "            y = np_utils.to_categorical(label_word, vocab_size)\n",
        "            yield (x, y)\n",
        "            \n",
        "i = 0\n",
        "for x, y in generate_context_word_pairs(corpus=wids, window_size=window_size, vocab_size=vocab_size):\n",
        "    if 0 not in x[0]:\n",
        "        # print('Context (X):', [id2word[w] for w in x[0]], '-> Target (Y):', id2word[np.argwhere(y[0])[0][0]])\n",
        "    \n",
        "        if i == 10:\n",
        "            break\n",
        "        i += 1"
      ],
      "metadata": {
        "id": "AAxNYDanInQC"
      },
      "execution_count": null,
      "outputs": []
    },
    {
      "cell_type": "code",
      "source": [
        "#model building\n",
        "import keras.backend as K\n",
        "from keras.models import Sequential\n",
        "from keras.layers import Dense, Embedding, Lambda\n",
        "\n",
        "cbow = Sequential()\n",
        "cbow.add(Embedding(input_dim=vocab_size, output_dim=embed_size, input_length=window_size*2))\n",
        "cbow.add(Lambda(lambda x: K.mean(x, axis=1), output_shape=(embed_size,)))\n",
        "cbow.add(Dense(vocab_size, activation='softmax'))\n",
        "cbow.compile(loss='categorical_crossentropy', optimizer='rmsprop')\n",
        "\n",
        "print(cbow.summary())\n",
        "\n",
        "# from IPython.display import SVG\n",
        "# from keras.utils.vis_utils import model_to_dot\n",
        "\n",
        "# SVG(model_to_dot(cbow, show_shapes=True, show_layer_names=False, rankdir='TB').create(prog='dot', format='svg'))"
      ],
      "metadata": {
        "colab": {
          "base_uri": "https://localhost:8080/"
        },
        "id": "Rb5dNmoZKZBv",
        "outputId": "cd24cc5a-202c-4acc-89d8-4524daf4e43b"
      },
      "execution_count": null,
      "outputs": [
        {
          "output_type": "stream",
          "name": "stdout",
          "text": [
            "Model: \"sequential_1\"\n",
            "_________________________________________________________________\n",
            " Layer (type)                Output Shape              Param #   \n",
            "=================================================================\n",
            " embedding_1 (Embedding)     (None, 4, 100)            7500      \n",
            "                                                                 \n",
            " lambda_1 (Lambda)           (None, 100)               0         \n",
            "                                                                 \n",
            " dense_1 (Dense)             (None, 75)                7575      \n",
            "                                                                 \n",
            "=================================================================\n",
            "Total params: 15,075\n",
            "Trainable params: 15,075\n",
            "Non-trainable params: 0\n",
            "_________________________________________________________________\n",
            "None\n"
          ]
        }
      ]
    },
    {
      "cell_type": "code",
      "source": [
        "for epoch in range(1, 6):\n",
        "    loss = 0.\n",
        "    i = 0\n",
        "    for x, y in generate_context_word_pairs(corpus=wids, window_size=window_size, vocab_size=vocab_size):\n",
        "        i += 1\n",
        "        loss += cbow.train_on_batch(x, y)\n",
        "        if i % 100000 == 0:\n",
        "            print('Processed {} (context, word) pairs'.format(i))\n",
        "\n",
        "    print('Epoch:', epoch, '\\tLoss:', loss)\n",
        "    print()"
      ],
      "metadata": {
        "colab": {
          "base_uri": "https://localhost:8080/"
        },
        "id": "xs12C3MDK1q4",
        "outputId": "984a84db-02ff-4a70-ae6f-db72e56f55e3"
      },
      "execution_count": null,
      "outputs": [
        {
          "output_type": "stream",
          "name": "stdout",
          "text": [
            "Epoch: 1 \tLoss: 434.0530254840851\n",
            "\n",
            "Epoch: 2 \tLoss: 428.824209690094\n",
            "\n",
            "Epoch: 3 \tLoss: 425.1743450164795\n",
            "\n",
            "Epoch: 4 \tLoss: 421.9178833961487\n",
            "\n",
            "Epoch: 5 \tLoss: 419.59038496017456\n",
            "\n"
          ]
        }
      ]
    },
    {
      "cell_type": "code",
      "source": [
        "weights = cbow.get_weights()[0]\n",
        "weights = weights[1:]\n",
        "print(weights.shape)\n",
        "\n",
        "pd.DataFrame(weights, index=list(id2word.values())[1:]).head()"
      ],
      "metadata": {
        "colab": {
          "base_uri": "https://localhost:8080/",
          "height": 317
        },
        "id": "TZ3_QGKVK6Tj",
        "outputId": "99e5e21a-1508-4400-cfe0-c730f0eb00dc"
      },
      "execution_count": null,
      "outputs": [
        {
          "output_type": "stream",
          "name": "stdout",
          "text": [
            "(74, 100)\n"
          ]
        },
        {
          "output_type": "execute_result",
          "data": {
            "text/plain": [
              "                0         1         2         3         4         5   \\\n",
              "deep     -0.005706  0.023137 -0.021215 -0.021808  0.042486  0.054989   \n",
              "networks -0.002729  0.036329 -0.006879 -0.037740  0.038999  0.028047   \n",
              "neural    0.018171  0.035003 -0.029900  0.019437 -0.030543 -0.006600   \n",
              "and       0.044097 -0.012877 -0.010360 -0.036750 -0.046434  0.000756   \n",
              "as       -0.022882  0.042515  0.043338 -0.010331  0.023717 -0.044640   \n",
              "\n",
              "                6         7         8         9   ...        90        91  \\\n",
              "deep     -0.029369 -0.028810 -0.031146 -0.006374  ...  0.020689 -0.064206   \n",
              "networks -0.026694  0.026770 -0.032582 -0.039938  ...  0.035069  0.054279   \n",
              "neural   -0.012190  0.010250  0.016883 -0.041534  ...  0.005004  0.003850   \n",
              "and       0.044301  0.012436 -0.023096 -0.001183  ... -0.029859  0.028914   \n",
              "as       -0.044494 -0.024370  0.032014  0.047135  ...  0.005504  0.049087   \n",
              "\n",
              "                92        93        94        95        96        97  \\\n",
              "deep      0.015326  0.023449 -0.028062  0.037911  0.038333 -0.057600   \n",
              "networks -0.064546  0.032275 -0.024138 -0.029326  0.061401  0.029893   \n",
              "neural   -0.036920  0.014527 -0.006316  0.000199 -0.024469  0.049500   \n",
              "and       0.011700  0.036729 -0.003080 -0.020737 -0.030345 -0.049461   \n",
              "as       -0.025526  0.006637  0.031141 -0.040718  0.027739  0.028611   \n",
              "\n",
              "                98        99  \n",
              "deep      0.001595  0.013630  \n",
              "networks  0.024356 -0.012057  \n",
              "neural   -0.003939 -0.001949  \n",
              "and      -0.001250 -0.032514  \n",
              "as       -0.042627 -0.038286  \n",
              "\n",
              "[5 rows x 100 columns]"
            ],
            "text/html": [
              "\n",
              "  <div id=\"df-e0f0a0f2-1a59-4e52-a81b-f3b9ead9e1a3\">\n",
              "    <div class=\"colab-df-container\">\n",
              "      <div>\n",
              "<style scoped>\n",
              "    .dataframe tbody tr th:only-of-type {\n",
              "        vertical-align: middle;\n",
              "    }\n",
              "\n",
              "    .dataframe tbody tr th {\n",
              "        vertical-align: top;\n",
              "    }\n",
              "\n",
              "    .dataframe thead th {\n",
              "        text-align: right;\n",
              "    }\n",
              "</style>\n",
              "<table border=\"1\" class=\"dataframe\">\n",
              "  <thead>\n",
              "    <tr style=\"text-align: right;\">\n",
              "      <th></th>\n",
              "      <th>0</th>\n",
              "      <th>1</th>\n",
              "      <th>2</th>\n",
              "      <th>3</th>\n",
              "      <th>4</th>\n",
              "      <th>5</th>\n",
              "      <th>6</th>\n",
              "      <th>7</th>\n",
              "      <th>8</th>\n",
              "      <th>9</th>\n",
              "      <th>...</th>\n",
              "      <th>90</th>\n",
              "      <th>91</th>\n",
              "      <th>92</th>\n",
              "      <th>93</th>\n",
              "      <th>94</th>\n",
              "      <th>95</th>\n",
              "      <th>96</th>\n",
              "      <th>97</th>\n",
              "      <th>98</th>\n",
              "      <th>99</th>\n",
              "    </tr>\n",
              "  </thead>\n",
              "  <tbody>\n",
              "    <tr>\n",
              "      <th>deep</th>\n",
              "      <td>-0.005706</td>\n",
              "      <td>0.023137</td>\n",
              "      <td>-0.021215</td>\n",
              "      <td>-0.021808</td>\n",
              "      <td>0.042486</td>\n",
              "      <td>0.054989</td>\n",
              "      <td>-0.029369</td>\n",
              "      <td>-0.028810</td>\n",
              "      <td>-0.031146</td>\n",
              "      <td>-0.006374</td>\n",
              "      <td>...</td>\n",
              "      <td>0.020689</td>\n",
              "      <td>-0.064206</td>\n",
              "      <td>0.015326</td>\n",
              "      <td>0.023449</td>\n",
              "      <td>-0.028062</td>\n",
              "      <td>0.037911</td>\n",
              "      <td>0.038333</td>\n",
              "      <td>-0.057600</td>\n",
              "      <td>0.001595</td>\n",
              "      <td>0.013630</td>\n",
              "    </tr>\n",
              "    <tr>\n",
              "      <th>networks</th>\n",
              "      <td>-0.002729</td>\n",
              "      <td>0.036329</td>\n",
              "      <td>-0.006879</td>\n",
              "      <td>-0.037740</td>\n",
              "      <td>0.038999</td>\n",
              "      <td>0.028047</td>\n",
              "      <td>-0.026694</td>\n",
              "      <td>0.026770</td>\n",
              "      <td>-0.032582</td>\n",
              "      <td>-0.039938</td>\n",
              "      <td>...</td>\n",
              "      <td>0.035069</td>\n",
              "      <td>0.054279</td>\n",
              "      <td>-0.064546</td>\n",
              "      <td>0.032275</td>\n",
              "      <td>-0.024138</td>\n",
              "      <td>-0.029326</td>\n",
              "      <td>0.061401</td>\n",
              "      <td>0.029893</td>\n",
              "      <td>0.024356</td>\n",
              "      <td>-0.012057</td>\n",
              "    </tr>\n",
              "    <tr>\n",
              "      <th>neural</th>\n",
              "      <td>0.018171</td>\n",
              "      <td>0.035003</td>\n",
              "      <td>-0.029900</td>\n",
              "      <td>0.019437</td>\n",
              "      <td>-0.030543</td>\n",
              "      <td>-0.006600</td>\n",
              "      <td>-0.012190</td>\n",
              "      <td>0.010250</td>\n",
              "      <td>0.016883</td>\n",
              "      <td>-0.041534</td>\n",
              "      <td>...</td>\n",
              "      <td>0.005004</td>\n",
              "      <td>0.003850</td>\n",
              "      <td>-0.036920</td>\n",
              "      <td>0.014527</td>\n",
              "      <td>-0.006316</td>\n",
              "      <td>0.000199</td>\n",
              "      <td>-0.024469</td>\n",
              "      <td>0.049500</td>\n",
              "      <td>-0.003939</td>\n",
              "      <td>-0.001949</td>\n",
              "    </tr>\n",
              "    <tr>\n",
              "      <th>and</th>\n",
              "      <td>0.044097</td>\n",
              "      <td>-0.012877</td>\n",
              "      <td>-0.010360</td>\n",
              "      <td>-0.036750</td>\n",
              "      <td>-0.046434</td>\n",
              "      <td>0.000756</td>\n",
              "      <td>0.044301</td>\n",
              "      <td>0.012436</td>\n",
              "      <td>-0.023096</td>\n",
              "      <td>-0.001183</td>\n",
              "      <td>...</td>\n",
              "      <td>-0.029859</td>\n",
              "      <td>0.028914</td>\n",
              "      <td>0.011700</td>\n",
              "      <td>0.036729</td>\n",
              "      <td>-0.003080</td>\n",
              "      <td>-0.020737</td>\n",
              "      <td>-0.030345</td>\n",
              "      <td>-0.049461</td>\n",
              "      <td>-0.001250</td>\n",
              "      <td>-0.032514</td>\n",
              "    </tr>\n",
              "    <tr>\n",
              "      <th>as</th>\n",
              "      <td>-0.022882</td>\n",
              "      <td>0.042515</td>\n",
              "      <td>0.043338</td>\n",
              "      <td>-0.010331</td>\n",
              "      <td>0.023717</td>\n",
              "      <td>-0.044640</td>\n",
              "      <td>-0.044494</td>\n",
              "      <td>-0.024370</td>\n",
              "      <td>0.032014</td>\n",
              "      <td>0.047135</td>\n",
              "      <td>...</td>\n",
              "      <td>0.005504</td>\n",
              "      <td>0.049087</td>\n",
              "      <td>-0.025526</td>\n",
              "      <td>0.006637</td>\n",
              "      <td>0.031141</td>\n",
              "      <td>-0.040718</td>\n",
              "      <td>0.027739</td>\n",
              "      <td>0.028611</td>\n",
              "      <td>-0.042627</td>\n",
              "      <td>-0.038286</td>\n",
              "    </tr>\n",
              "  </tbody>\n",
              "</table>\n",
              "<p>5 rows × 100 columns</p>\n",
              "</div>\n",
              "      <button class=\"colab-df-convert\" onclick=\"convertToInteractive('df-e0f0a0f2-1a59-4e52-a81b-f3b9ead9e1a3')\"\n",
              "              title=\"Convert this dataframe to an interactive table.\"\n",
              "              style=\"display:none;\">\n",
              "        \n",
              "  <svg xmlns=\"http://www.w3.org/2000/svg\" height=\"24px\"viewBox=\"0 0 24 24\"\n",
              "       width=\"24px\">\n",
              "    <path d=\"M0 0h24v24H0V0z\" fill=\"none\"/>\n",
              "    <path d=\"M18.56 5.44l.94 2.06.94-2.06 2.06-.94-2.06-.94-.94-2.06-.94 2.06-2.06.94zm-11 1L8.5 8.5l.94-2.06 2.06-.94-2.06-.94L8.5 2.5l-.94 2.06-2.06.94zm10 10l.94 2.06.94-2.06 2.06-.94-2.06-.94-.94-2.06-.94 2.06-2.06.94z\"/><path d=\"M17.41 7.96l-1.37-1.37c-.4-.4-.92-.59-1.43-.59-.52 0-1.04.2-1.43.59L10.3 9.45l-7.72 7.72c-.78.78-.78 2.05 0 2.83L4 21.41c.39.39.9.59 1.41.59.51 0 1.02-.2 1.41-.59l7.78-7.78 2.81-2.81c.8-.78.8-2.07 0-2.86zM5.41 20L4 18.59l7.72-7.72 1.47 1.35L5.41 20z\"/>\n",
              "  </svg>\n",
              "      </button>\n",
              "      \n",
              "  <style>\n",
              "    .colab-df-container {\n",
              "      display:flex;\n",
              "      flex-wrap:wrap;\n",
              "      gap: 12px;\n",
              "    }\n",
              "\n",
              "    .colab-df-convert {\n",
              "      background-color: #E8F0FE;\n",
              "      border: none;\n",
              "      border-radius: 50%;\n",
              "      cursor: pointer;\n",
              "      display: none;\n",
              "      fill: #1967D2;\n",
              "      height: 32px;\n",
              "      padding: 0 0 0 0;\n",
              "      width: 32px;\n",
              "    }\n",
              "\n",
              "    .colab-df-convert:hover {\n",
              "      background-color: #E2EBFA;\n",
              "      box-shadow: 0px 1px 2px rgba(60, 64, 67, 0.3), 0px 1px 3px 1px rgba(60, 64, 67, 0.15);\n",
              "      fill: #174EA6;\n",
              "    }\n",
              "\n",
              "    [theme=dark] .colab-df-convert {\n",
              "      background-color: #3B4455;\n",
              "      fill: #D2E3FC;\n",
              "    }\n",
              "\n",
              "    [theme=dark] .colab-df-convert:hover {\n",
              "      background-color: #434B5C;\n",
              "      box-shadow: 0px 1px 3px 1px rgba(0, 0, 0, 0.15);\n",
              "      filter: drop-shadow(0px 1px 2px rgba(0, 0, 0, 0.3));\n",
              "      fill: #FFFFFF;\n",
              "    }\n",
              "  </style>\n",
              "\n",
              "      <script>\n",
              "        const buttonEl =\n",
              "          document.querySelector('#df-e0f0a0f2-1a59-4e52-a81b-f3b9ead9e1a3 button.colab-df-convert');\n",
              "        buttonEl.style.display =\n",
              "          google.colab.kernel.accessAllowed ? 'block' : 'none';\n",
              "\n",
              "        async function convertToInteractive(key) {\n",
              "          const element = document.querySelector('#df-e0f0a0f2-1a59-4e52-a81b-f3b9ead9e1a3');\n",
              "          const dataTable =\n",
              "            await google.colab.kernel.invokeFunction('convertToInteractive',\n",
              "                                                     [key], {});\n",
              "          if (!dataTable) return;\n",
              "\n",
              "          const docLinkHtml = 'Like what you see? Visit the ' +\n",
              "            '<a target=\"_blank\" href=https://colab.research.google.com/notebooks/data_table.ipynb>data table notebook</a>'\n",
              "            + ' to learn more about interactive tables.';\n",
              "          element.innerHTML = '';\n",
              "          dataTable['output_type'] = 'display_data';\n",
              "          await google.colab.output.renderOutput(dataTable, element);\n",
              "          const docLink = document.createElement('div');\n",
              "          docLink.innerHTML = docLinkHtml;\n",
              "          element.appendChild(docLink);\n",
              "        }\n",
              "      </script>\n",
              "    </div>\n",
              "  </div>\n",
              "  "
            ]
          },
          "metadata": {},
          "execution_count": 14
        }
      ]
    },
    {
      "cell_type": "code",
      "source": [
        "from sklearn.metrics.pairwise import euclidean_distances\n",
        "\n",
        "distance_matrix = euclidean_distances(weights)\n",
        "print(distance_matrix.shape)\n",
        "\n",
        "similar_words = {search_term: [id2word[idx] for idx in distance_matrix[word2id[search_term]-1].argsort()[1:6]+1] \n",
        "                   for search_term in ['deep']}\n",
        "\n",
        "similar_words"
      ],
      "metadata": {
        "colab": {
          "base_uri": "https://localhost:8080/"
        },
        "id": "UFs2IAn_LAYS",
        "outputId": "b3dda112-2cae-4190-bea4-4cb7d20e0d20"
      },
      "execution_count": null,
      "outputs": [
        {
          "output_type": "stream",
          "name": "stdout",
          "text": [
            "(74, 74)\n"
          ]
        },
        {
          "output_type": "execute_result",
          "data": {
            "text/plain": [
              "{'deep': ['with', 'in', 'speech', 'learning', 'methods']}"
            ]
          },
          "metadata": {},
          "execution_count": 15
        }
      ]
    }
  ]
}