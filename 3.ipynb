{
  "nbformat": 4,
  "nbformat_minor": 0,
  "metadata": {
    "colab": {
      "provenance": [],
      "collapsed_sections": []
    },
    "kernelspec": {
      "name": "python3",
      "display_name": "Python 3"
    },
    "language_info": {
      "name": "python"
    }
  },
  "cells": [
    {
      "cell_type": "code",
      "execution_count": null,
      "metadata": {
        "id": "iqYzIXZIcGeK"
      },
      "outputs": [],
      "source": [
        "#installations\n",
        "from sklearn.preprocessing import LabelBinarizer\n",
        "from sklearn.metrics import classification_report\n",
        "from tensorflow.keras.models import Sequential\n",
        "from tensorflow.keras.layers import Dense\n",
        "from tensorflow.keras.optimizers import SGD\n",
        "from tensorflow.keras.datasets import mnist\n",
        "from tensorflow.keras.datasets import cifar10\n",
        "from tensorflow.keras import backend as K\n",
        "import matplotlib.pyplot as plt\n",
        "import numpy as np\n",
        "import pandas as pd"
      ]
    },
    {
      "cell_type": "code",
      "source": [
        "((xtrain, ytrain), (xtest, ytest)) = cifar10.load_data()"
      ],
      "metadata": {
        "colab": {
          "base_uri": "https://localhost:8080/"
        },
        "id": "vrpyy7O6cNgv",
        "outputId": "0514b945-ac5e-4033-caa8-44dc861aae0a"
      },
      "execution_count": null,
      "outputs": [
        {
          "output_type": "stream",
          "name": "stdout",
          "text": [
            "Downloading data from https://www.cs.toronto.edu/~kriz/cifar-10-python.tar.gz\n",
            "170498071/170498071 [==============================] - 6s 0us/step\n"
          ]
        }
      ]
    },
    {
      "cell_type": "code",
      "source": [
        "#xtrain=np.array(xtrain).reshape(60000,28,28)\n",
        "\n",
        "\n",
        "xtrain = xtrain.reshape((xtrain.shape[0], 32*32*3))\n",
        "xtest = xtest.reshape((xtest.shape[0], 32*32*3))\n",
        "xtrain = xtrain.astype(\"float\") / 255\n",
        "xtest = xtest.astype(\"float\") / 255.0"
      ],
      "metadata": {
        "id": "eVlw3N3Fcapf"
      },
      "execution_count": null,
      "outputs": []
    },
    {
      "cell_type": "code",
      "source": [
        "lb = LabelBinarizer()\n",
        "ytrain = lb.fit_transform(ytrain)\n",
        "ytest = lb.transform(ytest)"
      ],
      "metadata": {
        "id": "KIB0lzFFcrqL"
      },
      "execution_count": null,
      "outputs": []
    },
    {
      "cell_type": "code",
      "source": [
        "model = Sequential()\n",
        "model.add(Dense(128, input_shape = (3072, ), activation = \"sigmoid\"))\n",
        "model.add(Dense(64, activation = \"sigmoid\"))\n",
        "model.add(Dense(10, activation = \"softmax\"))"
      ],
      "metadata": {
        "id": "UXOBgX1Zc5Sc"
      },
      "execution_count": null,
      "outputs": []
    },
    {
      "cell_type": "code",
      "source": [
        "sgd = SGD(0.01)\n",
        "epo = 10\n",
        "model.compile(loss = \"categorical_crossentropy\", optimizer = sgd, metrics = ['accuracy'])\n",
        "H = model.fit(xtrain, ytrain, validation_data = (xtest, ytest), epochs = epo, batch_size = 128)"
      ],
      "metadata": {
        "id": "g9Qt1RaUdCZl",
        "colab": {
          "base_uri": "https://localhost:8080/"
        },
        "outputId": "e5e607be-e093-4cd0-a0d2-a5ed7f67aba3"
      },
      "execution_count": null,
      "outputs": [
        {
          "output_type": "stream",
          "name": "stdout",
          "text": [
            "Epoch 1/10\n",
            "391/391 [==============================] - 4s 11ms/step - loss: 2.3030 - accuracy: 0.0973 - val_loss: 2.3028 - val_accuracy: 0.1000\n",
            "Epoch 2/10\n",
            "391/391 [==============================] - 4s 10ms/step - loss: 2.3031 - accuracy: 0.0961 - val_loss: 2.3028 - val_accuracy: 0.1000\n",
            "Epoch 3/10\n",
            "391/391 [==============================] - 4s 11ms/step - loss: 2.3030 - accuracy: 0.0986 - val_loss: 2.3029 - val_accuracy: 0.1000\n",
            "Epoch 4/10\n",
            "391/391 [==============================] - 4s 10ms/step - loss: 2.3030 - accuracy: 0.0983 - val_loss: 2.3028 - val_accuracy: 0.1000\n",
            "Epoch 5/10\n",
            "391/391 [==============================] - 4s 10ms/step - loss: 2.3030 - accuracy: 0.0995 - val_loss: 2.3030 - val_accuracy: 0.1000\n",
            "Epoch 6/10\n",
            "391/391 [==============================] - 4s 11ms/step - loss: 2.3031 - accuracy: 0.0984 - val_loss: 2.3029 - val_accuracy: 0.1000\n",
            "Epoch 7/10\n",
            "391/391 [==============================] - 5s 13ms/step - loss: 2.3030 - accuracy: 0.0988 - val_loss: 2.3029 - val_accuracy: 0.1000\n",
            "Epoch 8/10\n",
            "391/391 [==============================] - 4s 10ms/step - loss: 2.3031 - accuracy: 0.0983 - val_loss: 2.3027 - val_accuracy: 0.1000\n",
            "Epoch 9/10\n",
            "391/391 [==============================] - 4s 11ms/step - loss: 2.3030 - accuracy: 0.0992 - val_loss: 2.3029 - val_accuracy: 0.1000\n",
            "Epoch 10/10\n",
            "391/391 [==============================] - 4s 10ms/step - loss: 2.3030 - accuracy: 0.0991 - val_loss: 2.3029 - val_accuracy: 0.1000\n"
          ]
        }
      ]
    },
    {
      "cell_type": "code",
      "source": [
        "pred = model.predict(xtest, batch_size = 10)\n",
        "print(classification_report(ytest.argmax(axis = 1), pred.argmax(axis = 1)))\n",
        "plt.style.use(\"ggplot\")\n",
        "plt.figure()\n",
        "plt.plot(np.arange(0, epo), H.history[\"loss\"], label = \"train_loss\")\n",
        "plt.plot(np.arange(0, epo), H.history[\"val_loss\"], label = \"val_loss\")\n",
        "plt.plot(np.arange(0, epo), H.history[\"accuracy\"], label = \"train_accuracy\")\n",
        "plt.plot(np.arange(0, epo), H.history[\"val_accuracy\"], label = \"val_accuracy\")\n",
        "plt.legend()"
      ],
      "metadata": {
        "colab": {
          "base_uri": "https://localhost:8080/",
          "height": 282
        },
        "id": "tV3nv7gYdZSF",
        "outputId": "e7e22a66-3f7b-47c2-c63e-d0999a6ef0cf"
      },
      "execution_count": null,
      "outputs": [
        {
          "output_type": "execute_result",
          "data": {
            "text/plain": [
              "<matplotlib.legend.Legend at 0x7fc863c66b50>"
            ]
          },
          "metadata": {},
          "execution_count": 15
        },
        {
          "output_type": "display_data",
          "data": {
            "text/plain": [
              "<Figure size 432x288 with 1 Axes>"
            ],
            "image/png": "[encoded data removed]"
          },
          "metadata": {}
        }
      ]
    },
    {
      "cell_type": "code",
      "source": [],
      "metadata": {
        "id": "GNZ4gZXNdali"
      },
      "execution_count": null,
      "outputs": []
    },
    {
      "cell_type": "code",
      "source": [],
      "metadata": {
        "id": "EO8NsdardcJA"
      },
      "execution_count": null,
      "outputs": []
    },
    {
      "cell_type": "code",
      "source": [],
      "metadata": {
        "id": "-XagxKkId5oy"
      },
      "execution_count": null,
      "outputs": []
    },
    {
      "cell_type": "code",
      "source": [],
      "metadata": {
        "id": "uPzU4VaFd7eU"
      },
      "execution_count": null,
      "outputs": []
    },
    {
      "cell_type": "code",
      "source": [
        "\n"
      ],
      "metadata": {
        "id": "_bs4LNCYeKo3"
      },
      "execution_count": null,
      "outputs": []
    },
    {
      "cell_type": "code",
      "source": [],
      "metadata": {
        "id": "aFw450GleQ3f"
      },
      "execution_count": null,
      "outputs": []
    }
  ]
}