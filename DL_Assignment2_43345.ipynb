{
  "nbformat": 4,
  "nbformat_minor": 0,
  "metadata": {
    "colab": {
      "provenance": [],
      "collapsed_sections": []
    },
    "kernelspec": {
      "name": "python3",
      "display_name": "Python 3"
    },
    "language_info": {
      "name": "python"
    }
  },
  "cells": [
    {
      "cell_type": "markdown",
      "source": [
        "Name: **Yash Nimbalkar**<br>\n",
        "Roll no: **43345**<br>\n",
        "Div: **BE11-R11**<br>\n",
        "Title: **Assignment 2: Implementing Feedforward neural networks with Keras and TensorFlow**<br>"
      ],
      "metadata": {
        "id": "tPIKfVcI7cXn"
      }
    },
    {
      "cell_type": "code",
      "execution_count": null,
      "metadata": {
        "id": "hcpVc-38-OFf"
      },
      "outputs": [],
      "source": [
        "#installations\n",
        "from sklearn.preprocessing import LabelBinarizer\n",
        "from sklearn.metrics import classification_report\n",
        "from tensorflow.keras.models import Sequential\n",
        "from tensorflow.keras.layers import Dense\n",
        "from tensorflow.keras.optimizers import SGD\n",
        "from tensorflow.keras.datasets import mnist\n",
        "from tensorflow.keras import backend as K\n",
        "import matplotlib.pyplot as plt\n",
        "import numpy as np"
      ]
    },
    {
      "cell_type": "code",
      "source": [
        "#grabbing the mnist dataset\n",
        "((X_train, Y_train), (X_test, Y_test)) = mnist.load_data()\n",
        "X_train = X_train.reshape((X_train.shape[0], 28 * 28 * 1))\n",
        "X_test = X_test.reshape((X_test.shape[0], 28 * 28 * 1))\n",
        "X_train = X_train.astype(\"float32\") / 255.0\n",
        "X_test = X_test.astype(\"float32\") / 255.0"
      ],
      "metadata": {
        "id": "LUZLOYG8-Yz2"
      },
      "execution_count": null,
      "outputs": []
    },
    {
      "cell_type": "code",
      "source": [
        "lb = LabelBinarizer()\n",
        "Y_train = lb.fit_transform(Y_train)\n",
        "Y_test = lb.transform(Y_test)"
      ],
      "metadata": {
        "id": "rGDSwm8e-i44"
      },
      "execution_count": null,
      "outputs": []
    },
    {
      "cell_type": "code",
      "source": [
        "#building the model\n",
        "model = Sequential()\n",
        "model.add(Dense(128, input_shape=(784,), activation=\"sigmoid\"))\n",
        "model.add(Dense(64, activation=\"sigmoid\"))\n",
        "model.add(Dense(10, activation=\"softmax\"))"
      ],
      "metadata": {
        "id": "lxBbB-yA-s_g"
      },
      "execution_count": null,
      "outputs": []
    },
    {
      "cell_type": "code",
      "source": [
        "sgd = SGD(0.01)\n",
        "epochs=10\n",
        "model.compile(loss=\"categorical_crossentropy\", optimizer=sgd,metrics=[\"accuracy\"])\n",
        "H = model.fit(X_train, Y_train, validation_data=(X_test, Y_test),epochs=epochs, batch_size=128)"
      ],
      "metadata": {
        "colab": {
          "base_uri": "https://localhost:8080/"
        },
        "id": "xKc03Mvz-wrz",
        "outputId": "024a1a3c-207f-4f46-cef8-9b1ed937ab5e"
      },
      "execution_count": null,
      "outputs": [
        {
          "output_type": "stream",
          "name": "stdout",
          "text": [
            "Epoch 1/10\n",
            "469/469 [==============================] - 5s 10ms/step - loss: 2.2974 - accuracy: 0.1492 - val_loss: 2.2601 - val_accuracy: 0.3734\n",
            "Epoch 2/10\n",
            "469/469 [==============================] - 3s 5ms/step - loss: 2.2357 - accuracy: 0.3398 - val_loss: 2.2058 - val_accuracy: 0.4507\n",
            "Epoch 3/10\n",
            "469/469 [==============================] - 2s 5ms/step - loss: 2.1735 - accuracy: 0.5123 - val_loss: 2.1311 - val_accuracy: 0.5444\n",
            "Epoch 4/10\n",
            "469/469 [==============================] - 3s 6ms/step - loss: 2.0849 - accuracy: 0.5852 - val_loss: 2.0216 - val_accuracy: 0.6263\n",
            "Epoch 5/10\n",
            "469/469 [==============================] - 3s 6ms/step - loss: 1.9563 - accuracy: 0.6171 - val_loss: 1.8673 - val_accuracy: 0.6124\n",
            "Epoch 6/10\n",
            "469/469 [==============================] - 3s 6ms/step - loss: 1.7827 - accuracy: 0.6332 - val_loss: 1.6725 - val_accuracy: 0.6343\n",
            "Epoch 7/10\n",
            "469/469 [==============================] - 2s 5ms/step - loss: 1.5818 - accuracy: 0.6504 - val_loss: 1.4679 - val_accuracy: 0.6711\n",
            "Epoch 8/10\n",
            "469/469 [==============================] - 3s 6ms/step - loss: 1.3879 - accuracy: 0.6799 - val_loss: 1.2873 - val_accuracy: 0.7118\n",
            "Epoch 9/10\n",
            "469/469 [==============================] - 3s 6ms/step - loss: 1.2241 - accuracy: 0.7130 - val_loss: 1.1412 - val_accuracy: 0.7305\n",
            "Epoch 10/10\n",
            "469/469 [==============================] - 3s 5ms/step - loss: 1.0938 - accuracy: 0.7368 - val_loss: 1.0263 - val_accuracy: 0.7536\n"
          ]
        }
      ]
    },
    {
      "cell_type": "code",
      "source": [
        "#making the predictions\n",
        "predictions = model.predict(X_test, batch_size=128)\n",
        "print(classification_report(Y_test.argmax(axis=1),predictions.argmax(axis=1),target_names=[str(x) for x in lb.classes_]))"
      ],
      "metadata": {
        "colab": {
          "base_uri": "https://localhost:8080/"
        },
        "id": "Mhq0Upb3-8O3",
        "outputId": "d0e1912b-d1e7-4414-bc26-54dc9b90d27e"
      },
      "execution_count": null,
      "outputs": [
        {
          "output_type": "stream",
          "name": "stdout",
          "text": [
            "79/79 [==============================] - 0s 3ms/step\n",
            "              precision    recall  f1-score   support\n",
            "\n",
            "           0       0.79      0.96      0.87       980\n",
            "           1       0.78      0.99      0.87      1135\n",
            "           2       0.81      0.73      0.77      1032\n",
            "           3       0.66      0.84      0.74      1010\n",
            "           4       0.66      0.83      0.74       982\n",
            "           5       0.82      0.30      0.44       892\n",
            "           6       0.81      0.91      0.86       958\n",
            "           7       0.76      0.86      0.81      1028\n",
            "           8       0.85      0.54      0.66       974\n",
            "           9       0.69      0.51      0.59      1009\n",
            "\n",
            "    accuracy                           0.75     10000\n",
            "   macro avg       0.76      0.75      0.73     10000\n",
            "weighted avg       0.76      0.75      0.74     10000\n",
            "\n"
          ]
        }
      ]
    },
    {
      "cell_type": "code",
      "source": [
        "#plotting the training loss and accuracy\n",
        "plt.style.use(\"ggplot\")\n",
        "plt.figure()\n",
        "plt.plot(np.arange(0, epochs), H.history[\"loss\"], label=\"train_loss\")\n",
        "plt.plot(np.arange(0, epochs), H.history[\"val_loss\"], label=\"val_loss\")\n",
        "plt.plot(np.arange(0, epochs), H.history[\"accuracy\"], label=\"train_acc\")\n",
        "plt.plot(np.arange(0, epochs), H.history[\"val_accuracy\"], label=\"val_acc\")\n",
        "plt.title(\"Training Loss and Accuracy\")\n",
        "plt.xlabel(\"Epoch #\")\n",
        "plt.ylabel(\"Loss/Accuracy\")\n",
        "plt.legend();"
      ],
      "metadata": {
        "colab": {
          "base_uri": "https://localhost:8080/",
          "height": 299
        },
        "id": "DN7oqCII_Crw",
        "outputId": "f2e2c80d-e972-4cbf-af46-d08d63699b95"
      },
      "execution_count": null,
      "outputs": [
        {
          "output_type": "display_data",
          "data": {
            "text/plain": [
              "<Figure size 432x288 with 1 Axes>"
            ],
            "image/png": "[encoded data removed]"
          },
          "metadata": {}
        }
      ]
    }
  ]
}